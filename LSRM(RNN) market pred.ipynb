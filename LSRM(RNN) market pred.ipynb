{
  "nbformat": 4,
  "nbformat_minor": 0,
  "metadata": {
    "colab": {
      "name": "Untitled0.ipynb",
      "provenance": [],
      "collapsed_sections": [],
      "authorship_tag": "ABX9TyOr3c556CWxKFA1ow//tgZY"
    },
    "kernelspec": {
      "name": "python3",
      "display_name": "Python 3"
    }
  },
  "cells": [
    {
      "cell_type": "code",
      "metadata": {
        "id": "rCymeNzPZKlL",
        "colab_type": "code",
        "colab": {}
      },
      "source": [
        "#pretext: this code uses and artificial neural network(reurrent model) to predict closing stock price of a well performing\n",
        "#ie apple using LSTM .... Long Short term memory for it's reputation for efficiency in retaining data points based on importance and \n",
        "# ignores  superfluous data points"
      ],
      "execution_count": 0,
      "outputs": []
    },
    {
      "cell_type": "code",
      "metadata": {
        "id": "jChKIcoFaM2Q",
        "colab_type": "code",
        "colab": {}
      },
      "source": [
        "import math\n",
        "import pandas_datareader as web #gets the stock quote as web\n",
        "import numpy as np\n",
        "import pandas as pd\n",
        "from sklearn.preprocessing import MinMaxScaler\n",
        "from keras.models import Sequential\n",
        "from keras.layers import Dense, LSTM\n",
        "import matplotlib.pyplot as plt"
      ],
      "execution_count": 0,
      "outputs": []
    },
    {
      "cell_type": "code",
      "metadata": {
        "id": "cHFXIXPrbBP0",
        "colab_type": "code",
        "colab": {}
      },
      "source": [
        "plt.style.use('fivethirtyeight')"
      ],
      "execution_count": 0,
      "outputs": []
    },
    {
      "cell_type": "code",
      "metadata": {
        "id": "ra4UJ39xbQbp",
        "colab_type": "code",
        "colab": {}
      },
      "source": [
        "# get Stock quote data using padas data reader\n",
        "df = web.DataReader('AAPL',data_source='yahoo',start='2012-01-01',end='2019-12-31')"
      ],
      "execution_count": 0,
      "outputs": []
    },
    {
      "cell_type": "code",
      "metadata": {
        "id": "47wEejOfcY5G",
        "colab_type": "code",
        "outputId": "5ed29b50-a6fb-4c8a-d5a7-2e0ee45fef21",
        "colab": {
          "base_uri": "https://localhost:8080/",
          "height": 438
        }
      },
      "source": [
        "df"
      ],
      "execution_count": 62,
      "outputs": [
        {
          "output_type": "execute_result",
          "data": {
            "text/html": [
              "<div>\n",
              "<style scoped>\n",
              "    .dataframe tbody tr th:only-of-type {\n",
              "        vertical-align: middle;\n",
              "    }\n",
              "\n",
              "    .dataframe tbody tr th {\n",
              "        vertical-align: top;\n",
              "    }\n",
              "\n",
              "    .dataframe thead th {\n",
              "        text-align: right;\n",
              "    }\n",
              "</style>\n",
              "<table border=\"1\" class=\"dataframe\">\n",
              "  <thead>\n",
              "    <tr style=\"text-align: right;\">\n",
              "      <th></th>\n",
              "      <th>High</th>\n",
              "      <th>Low</th>\n",
              "      <th>Open</th>\n",
              "      <th>Close</th>\n",
              "      <th>Volume</th>\n",
              "      <th>Adj Close</th>\n",
              "    </tr>\n",
              "    <tr>\n",
              "      <th>Date</th>\n",
              "      <th></th>\n",
              "      <th></th>\n",
              "      <th></th>\n",
              "      <th></th>\n",
              "      <th></th>\n",
              "      <th></th>\n",
              "    </tr>\n",
              "  </thead>\n",
              "  <tbody>\n",
              "    <tr>\n",
              "      <th>2012-01-03</th>\n",
              "      <td>58.928570</td>\n",
              "      <td>58.428570</td>\n",
              "      <td>58.485714</td>\n",
              "      <td>58.747143</td>\n",
              "      <td>75555200.0</td>\n",
              "      <td>51.115936</td>\n",
              "    </tr>\n",
              "    <tr>\n",
              "      <th>2012-01-04</th>\n",
              "      <td>59.240002</td>\n",
              "      <td>58.468571</td>\n",
              "      <td>58.571430</td>\n",
              "      <td>59.062859</td>\n",
              "      <td>65005500.0</td>\n",
              "      <td>51.390648</td>\n",
              "    </tr>\n",
              "    <tr>\n",
              "      <th>2012-01-05</th>\n",
              "      <td>59.792858</td>\n",
              "      <td>58.952858</td>\n",
              "      <td>59.278572</td>\n",
              "      <td>59.718571</td>\n",
              "      <td>67817400.0</td>\n",
              "      <td>51.961189</td>\n",
              "    </tr>\n",
              "    <tr>\n",
              "      <th>2012-01-06</th>\n",
              "      <td>60.392857</td>\n",
              "      <td>59.888573</td>\n",
              "      <td>59.967144</td>\n",
              "      <td>60.342857</td>\n",
              "      <td>79573200.0</td>\n",
              "      <td>52.504375</td>\n",
              "    </tr>\n",
              "    <tr>\n",
              "      <th>2012-01-09</th>\n",
              "      <td>61.107143</td>\n",
              "      <td>60.192856</td>\n",
              "      <td>60.785713</td>\n",
              "      <td>60.247143</td>\n",
              "      <td>98506100.0</td>\n",
              "      <td>52.421093</td>\n",
              "    </tr>\n",
              "    <tr>\n",
              "      <th>...</th>\n",
              "      <td>...</td>\n",
              "      <td>...</td>\n",
              "      <td>...</td>\n",
              "      <td>...</td>\n",
              "      <td>...</td>\n",
              "      <td>...</td>\n",
              "    </tr>\n",
              "    <tr>\n",
              "      <th>2019-12-24</th>\n",
              "      <td>284.890015</td>\n",
              "      <td>282.920013</td>\n",
              "      <td>284.690002</td>\n",
              "      <td>284.269989</td>\n",
              "      <td>12119700.0</td>\n",
              "      <td>284.269989</td>\n",
              "    </tr>\n",
              "    <tr>\n",
              "      <th>2019-12-26</th>\n",
              "      <td>289.980011</td>\n",
              "      <td>284.700012</td>\n",
              "      <td>284.820007</td>\n",
              "      <td>289.910004</td>\n",
              "      <td>23280300.0</td>\n",
              "      <td>289.910004</td>\n",
              "    </tr>\n",
              "    <tr>\n",
              "      <th>2019-12-27</th>\n",
              "      <td>293.970001</td>\n",
              "      <td>288.119995</td>\n",
              "      <td>291.119995</td>\n",
              "      <td>289.799988</td>\n",
              "      <td>36566500.0</td>\n",
              "      <td>289.799988</td>\n",
              "    </tr>\n",
              "    <tr>\n",
              "      <th>2019-12-30</th>\n",
              "      <td>292.690002</td>\n",
              "      <td>285.220001</td>\n",
              "      <td>289.459991</td>\n",
              "      <td>291.519989</td>\n",
              "      <td>36028600.0</td>\n",
              "      <td>291.519989</td>\n",
              "    </tr>\n",
              "    <tr>\n",
              "      <th>2019-12-31</th>\n",
              "      <td>293.679993</td>\n",
              "      <td>289.519989</td>\n",
              "      <td>289.929993</td>\n",
              "      <td>293.649994</td>\n",
              "      <td>25201400.0</td>\n",
              "      <td>293.649994</td>\n",
              "    </tr>\n",
              "  </tbody>\n",
              "</table>\n",
              "<p>2012 rows × 6 columns</p>\n",
              "</div>"
            ],
            "text/plain": [
              "                  High         Low  ...      Volume   Adj Close\n",
              "Date                                ...                        \n",
              "2012-01-03   58.928570   58.428570  ...  75555200.0   51.115936\n",
              "2012-01-04   59.240002   58.468571  ...  65005500.0   51.390648\n",
              "2012-01-05   59.792858   58.952858  ...  67817400.0   51.961189\n",
              "2012-01-06   60.392857   59.888573  ...  79573200.0   52.504375\n",
              "2012-01-09   61.107143   60.192856  ...  98506100.0   52.421093\n",
              "...                ...         ...  ...         ...         ...\n",
              "2019-12-24  284.890015  282.920013  ...  12119700.0  284.269989\n",
              "2019-12-26  289.980011  284.700012  ...  23280300.0  289.910004\n",
              "2019-12-27  293.970001  288.119995  ...  36566500.0  289.799988\n",
              "2019-12-30  292.690002  285.220001  ...  36028600.0  291.519989\n",
              "2019-12-31  293.679993  289.519989  ...  25201400.0  293.649994\n",
              "\n",
              "[2012 rows x 6 columns]"
            ]
          },
          "metadata": {
            "tags": []
          },
          "execution_count": 62
        }
      ]
    },
    {
      "cell_type": "code",
      "metadata": {
        "id": "KC0Bsht9cuCB",
        "colab_type": "code",
        "colab": {}
      },
      "source": [
        "# jan 1 was sunday stocks were probably closed there are \n",
        "# four to five day cycles depending on weekends holidays and \n",
        "# maybe a sudden break in that cycle citing natural disasters\n",
        "#  or political reasons that may be deemed merit to close stock market "
      ],
      "execution_count": 0,
      "outputs": []
    },
    {
      "cell_type": "code",
      "metadata": {
        "id": "teloM29EdqVX",
        "colab_type": "code",
        "outputId": "2a49c2e0-54d4-432e-8a55-142ed145a9c7",
        "colab": {
          "base_uri": "https://localhost:8080/",
          "height": 34
        }
      },
      "source": [
        "#get the number of columns and rows in the dataset\n",
        "df.shape"
      ],
      "execution_count": 64,
      "outputs": [
        {
          "output_type": "execute_result",
          "data": {
            "text/plain": [
              "(2012, 6)"
            ]
          },
          "metadata": {
            "tags": []
          },
          "execution_count": 64
        }
      ]
    },
    {
      "cell_type": "code",
      "metadata": {
        "id": "OguDG2vYdyXA",
        "colab_type": "code",
        "outputId": "c27cd0ab-84a1-432d-f030-23753196ac41",
        "colab": {
          "base_uri": "https://localhost:8080/",
          "height": 34
        }
      },
      "source": [
        "df.columns"
      ],
      "execution_count": 65,
      "outputs": [
        {
          "output_type": "execute_result",
          "data": {
            "text/plain": [
              "Index(['High', 'Low', 'Open', 'Close', 'Volume', 'Adj Close'], dtype='object')"
            ]
          },
          "metadata": {
            "tags": []
          },
          "execution_count": 65
        }
      ]
    },
    {
      "cell_type": "code",
      "metadata": {
        "id": "IHYlojfdeJeG",
        "colab_type": "code",
        "outputId": "437f06e5-34e4-40d7-df40-8c9a65f843b3",
        "colab": {
          "base_uri": "https://localhost:8080/",
          "height": 558
        }
      },
      "source": [
        "plt.figure(figsize=(16,8))\n",
        "plt.title('closing history')\n",
        "plt.plot(df['Close'])\n",
        "plt.xlabel('Date',fontsize=18)\n",
        "plt.ylabel('close price in $ USD',fontsize=18)\n",
        "plt.show()"
      ],
      "execution_count": 66,
      "outputs": [
        {
          "output_type": "display_data",
          "data": {
            "image/png": "[encoded data removed]",
            "text/plain": [
              "<Figure size 1152x576 with 1 Axes>"
            ]
          },
          "metadata": {
            "tags": []
          }
        }
      ]
    },
    {
      "cell_type": "code",
      "metadata": {
        "id": "CqmOh8FUfXKn",
        "colab_type": "code",
        "colab": {}
      },
      "source": [
        "data = df.filter(['Close'])\n",
        "#convert the dataframe to a numpy array ., but why reasons???\n",
        "#creating dataframe data with only closing price data in it"
      ],
      "execution_count": 0,
      "outputs": []
    },
    {
      "cell_type": "code",
      "metadata": {
        "id": "TBoza5pcwZ7u",
        "colab_type": "code",
        "outputId": "a91d9ff2-24df-4301-862e-799a60089663",
        "colab": {
          "base_uri": "https://localhost:8080/",
          "height": 438
        }
      },
      "source": [
        "data"
      ],
      "execution_count": 68,
      "outputs": [
        {
          "output_type": "execute_result",
          "data": {
            "text/html": [
              "<div>\n",
              "<style scoped>\n",
              "    .dataframe tbody tr th:only-of-type {\n",
              "        vertical-align: middle;\n",
              "    }\n",
              "\n",
              "    .dataframe tbody tr th {\n",
              "        vertical-align: top;\n",
              "    }\n",
              "\n",
              "    .dataframe thead th {\n",
              "        text-align: right;\n",
              "    }\n",
              "</style>\n",
              "<table border=\"1\" class=\"dataframe\">\n",
              "  <thead>\n",
              "    <tr style=\"text-align: right;\">\n",
              "      <th></th>\n",
              "      <th>Close</th>\n",
              "    </tr>\n",
              "    <tr>\n",
              "      <th>Date</th>\n",
              "      <th></th>\n",
              "    </tr>\n",
              "  </thead>\n",
              "  <tbody>\n",
              "    <tr>\n",
              "      <th>2012-01-03</th>\n",
              "      <td>58.747143</td>\n",
              "    </tr>\n",
              "    <tr>\n",
              "      <th>2012-01-04</th>\n",
              "      <td>59.062859</td>\n",
              "    </tr>\n",
              "    <tr>\n",
              "      <th>2012-01-05</th>\n",
              "      <td>59.718571</td>\n",
              "    </tr>\n",
              "    <tr>\n",
              "      <th>2012-01-06</th>\n",
              "      <td>60.342857</td>\n",
              "    </tr>\n",
              "    <tr>\n",
              "      <th>2012-01-09</th>\n",
              "      <td>60.247143</td>\n",
              "    </tr>\n",
              "    <tr>\n",
              "      <th>...</th>\n",
              "      <td>...</td>\n",
              "    </tr>\n",
              "    <tr>\n",
              "      <th>2019-12-24</th>\n",
              "      <td>284.269989</td>\n",
              "    </tr>\n",
              "    <tr>\n",
              "      <th>2019-12-26</th>\n",
              "      <td>289.910004</td>\n",
              "    </tr>\n",
              "    <tr>\n",
              "      <th>2019-12-27</th>\n",
              "      <td>289.799988</td>\n",
              "    </tr>\n",
              "    <tr>\n",
              "      <th>2019-12-30</th>\n",
              "      <td>291.519989</td>\n",
              "    </tr>\n",
              "    <tr>\n",
              "      <th>2019-12-31</th>\n",
              "      <td>293.649994</td>\n",
              "    </tr>\n",
              "  </tbody>\n",
              "</table>\n",
              "<p>2012 rows × 1 columns</p>\n",
              "</div>"
            ],
            "text/plain": [
              "                 Close\n",
              "Date                  \n",
              "2012-01-03   58.747143\n",
              "2012-01-04   59.062859\n",
              "2012-01-05   59.718571\n",
              "2012-01-06   60.342857\n",
              "2012-01-09   60.247143\n",
              "...                ...\n",
              "2019-12-24  284.269989\n",
              "2019-12-26  289.910004\n",
              "2019-12-27  289.799988\n",
              "2019-12-30  291.519989\n",
              "2019-12-31  293.649994\n",
              "\n",
              "[2012 rows x 1 columns]"
            ]
          },
          "metadata": {
            "tags": []
          },
          "execution_count": 68
        }
      ]
    },
    {
      "cell_type": "code",
      "metadata": {
        "id": "UQg-9nt9we5N",
        "colab_type": "code",
        "outputId": "0b2ca6b6-c694-47ee-b9b1-a54fec495e4d",
        "colab": {
          "base_uri": "https://localhost:8080/",
          "height": 34
        }
      },
      "source": [
        "#convert dataframe to numpy array reasons ???\n",
        "# to FEED LSTM with flexible dimensionality of arrays ie 2D or 3D convert tuples to np array\n",
        "dataset = data.values\n",
        "#train on 80 percent of rows\n",
        "training_data_len = math.ceil( len(dataset) * .8 )\n",
        "training_data_len"
      ],
      "execution_count": 69,
      "outputs": [
        {
          "output_type": "execute_result",
          "data": {
            "text/plain": [
              "1610"
            ]
          },
          "metadata": {
            "tags": []
          },
          "execution_count": 69
        }
      ]
    },
    {
      "cell_type": "code",
      "metadata": {
        "id": "65LS524dxCOU",
        "colab_type": "code",
        "outputId": "115512cc-d25d-4eca-dc4e-02be741d6e26",
        "colab": {
          "base_uri": "https://localhost:8080/",
          "height": 138
        }
      },
      "source": [
        "#scale the data Normalization for neural network accuracy\n",
        "scaler = MinMaxScaler(feature_range=(0,1))\n",
        "#create a dataset to hold the normalized values between 0 and 1\n",
        "scaled_data = scaler.fit_transform(dataset)\n",
        "\n",
        "scaled_data\n"
      ],
      "execution_count": 70,
      "outputs": [
        {
          "output_type": "execute_result",
          "data": {
            "text/plain": [
              "array([[0.01243228],\n",
              "       [0.0137596 ],\n",
              "       [0.01651631],\n",
              "       ...,\n",
              "       [0.98381398],\n",
              "       [0.99104513],\n",
              "       [1.        ]])"
            ]
          },
          "metadata": {
            "tags": []
          },
          "execution_count": 70
        }
      ]
    },
    {
      "cell_type": "code",
      "metadata": {
        "id": "KZv-609KyHnB",
        "colab_type": "code",
        "outputId": "4e5e8a89-48b0-4d23-f844-519905d93a6f",
        "colab": {
          "base_uri": "https://localhost:8080/",
          "height": 726
        }
      },
      "source": [
        "#create the training dataset\n",
        "#create the scaled data as a dataset\n",
        "\n",
        "train_data = scaled_data[0:training_data_len, :]\n",
        "\n",
        "#split data into x_train and y_train\n",
        "x_train=[] #independent  variables\n",
        "y_train=[] # dependent target variables\n",
        "\n",
        "for i in range(60,len(train_data)):\n",
        "  x_train.append(train_data[i-60:i,0]) #0 to 59 indexed 60 vals\n",
        "  y_train.append(train_data[i,0]) #61st val at index 60\n",
        "\n",
        "  if i<=61:\n",
        "    print(x_train)\n",
        "    print()\n",
        "    print(y_train)\n",
        "    print()\n"
      ],
      "execution_count": 71,
      "outputs": [
        {
          "output_type": "stream",
          "text": [
            "[array([0.01243228, 0.0137596 , 0.01651631, 0.01914091, 0.01873851,\n",
            "       0.0196454 , 0.01923099, 0.0185343 , 0.01758538, 0.02052227,\n",
            "       0.02317089, 0.02235408, 0.01787967, 0.02214988, 0.01794572,\n",
            "       0.0337113 , 0.03249209, 0.03408368, 0.03752507, 0.03960912,\n",
            "       0.03943495, 0.03879233, 0.04153103, 0.04410756, 0.04702647,\n",
            "       0.05174113, 0.06164491, 0.06179505, 0.06730851, 0.07142856,\n",
            "       0.06434756, 0.06707427, 0.06702022, 0.07466578, 0.07357869,\n",
            "       0.07559067, 0.07920624, 0.08121825, 0.08701398, 0.09123616,\n",
            "       0.09245533, 0.09288177, 0.08566265, 0.0839209 , 0.08417917,\n",
            "       0.09096586, 0.09287577, 0.0969778 , 0.10664737, 0.11954812,\n",
            "       0.11713373, 0.11713972, 0.12646695, 0.12938582, 0.12730777,\n",
            "       0.12540992, 0.12343396, 0.12999843, 0.1345029 , 0.13638876])]\n",
            "\n",
            "[0.13172814323221588]\n",
            "\n",
            "[array([0.01243228, 0.0137596 , 0.01651631, 0.01914091, 0.01873851,\n",
            "       0.0196454 , 0.01923099, 0.0185343 , 0.01758538, 0.02052227,\n",
            "       0.02317089, 0.02235408, 0.01787967, 0.02214988, 0.01794572,\n",
            "       0.0337113 , 0.03249209, 0.03408368, 0.03752507, 0.03960912,\n",
            "       0.03943495, 0.03879233, 0.04153103, 0.04410756, 0.04702647,\n",
            "       0.05174113, 0.06164491, 0.06179505, 0.06730851, 0.07142856,\n",
            "       0.06434756, 0.06707427, 0.06702022, 0.07466578, 0.07357869,\n",
            "       0.07559067, 0.07920624, 0.08121825, 0.08701398, 0.09123616,\n",
            "       0.09245533, 0.09288177, 0.08566265, 0.0839209 , 0.08417917,\n",
            "       0.09096586, 0.09287577, 0.0969778 , 0.10664737, 0.11954812,\n",
            "       0.11713373, 0.11713972, 0.12646695, 0.12938582, 0.12730777,\n",
            "       0.12540992, 0.12343396, 0.12999843, 0.1345029 , 0.13638876]), array([0.0137596 , 0.01651631, 0.01914091, 0.01873851, 0.0196454 ,\n",
            "       0.01923099, 0.0185343 , 0.01758538, 0.02052227, 0.02317089,\n",
            "       0.02235408, 0.01787967, 0.02214988, 0.01794572, 0.0337113 ,\n",
            "       0.03249209, 0.03408368, 0.03752507, 0.03960912, 0.03943495,\n",
            "       0.03879233, 0.04153103, 0.04410756, 0.04702647, 0.05174113,\n",
            "       0.06164491, 0.06179505, 0.06730851, 0.07142856, 0.06434756,\n",
            "       0.06707427, 0.06702022, 0.07466578, 0.07357869, 0.07559067,\n",
            "       0.07920624, 0.08121825, 0.08701398, 0.09123616, 0.09245533,\n",
            "       0.09288177, 0.08566265, 0.0839209 , 0.08417917, 0.09096586,\n",
            "       0.09287577, 0.0969778 , 0.10664737, 0.11954812, 0.11713373,\n",
            "       0.11713972, 0.12646695, 0.12938582, 0.12730777, 0.12540992,\n",
            "       0.12343396, 0.12999843, 0.1345029 , 0.13638876, 0.13172814])]\n",
            "\n",
            "[0.13172814323221588, 0.12553603586771372]\n",
            "\n"
          ],
          "name": "stdout"
        }
      ]
    },
    {
      "cell_type": "code",
      "metadata": {
        "id": "MNsFm6Jh1vef",
        "colab_type": "code",
        "colab": {}
      },
      "source": [
        "#convert xtain ytrain to np arrays\n",
        "x_train, y_train = np.array(x_train), np.array(y_train)"
      ],
      "execution_count": 0,
      "outputs": []
    },
    {
      "cell_type": "code",
      "metadata": {
        "id": "_KB7SAekZnxy",
        "colab_type": "code",
        "colab": {
          "base_uri": "https://localhost:8080/",
          "height": 34
        },
        "outputId": "ed0844eb-ffce-41fa-ab9c-de8ed159c2c8"
      },
      "source": [
        "#reshape xtrain data\n",
        "\n",
        "x_train.shape"
      ],
      "execution_count": 73,
      "outputs": [
        {
          "output_type": "execute_result",
          "data": {
            "text/plain": [
              "(1550, 60)"
            ]
          },
          "metadata": {
            "tags": []
          },
          "execution_count": 73
        }
      ]
    },
    {
      "cell_type": "code",
      "metadata": {
        "id": "O7u3aqwsZxQs",
        "colab_type": "code",
        "colab": {
          "base_uri": "https://localhost:8080/",
          "height": 34
        },
        "outputId": "2ab58b4c-8d72-4037-9bef-f0b8e6a4855c"
      },
      "source": [
        "#converting 2d xtrain to 3d for feeding LSTM\n",
        "x_train = np.reshape(x_train,(x_train.shape[0], x_train.shape[1], 1))\n",
        "x_train.shape"
      ],
      "execution_count": 74,
      "outputs": [
        {
          "output_type": "execute_result",
          "data": {
            "text/plain": [
              "(1550, 60, 1)"
            ]
          },
          "metadata": {
            "tags": []
          },
          "execution_count": 74
        }
      ]
    },
    {
      "cell_type": "code",
      "metadata": {
        "id": "aDL0tDKvaUoq",
        "colab_type": "code",
        "colab": {}
      },
      "source": [
        "#build the lstm model\n",
        "model = Sequential()\n",
        "model.add(LSTM(50, return_sequences=True, input_shape=(x_train.shape[1], 1)))\n",
        "model.add(LSTM(50, return_sequences=False))\n",
        "model.add(Dense(25))\n",
        "model.add(Dense(1))"
      ],
      "execution_count": 0,
      "outputs": []
    },
    {
      "cell_type": "code",
      "metadata": {
        "id": "btfUlUN1bopP",
        "colab_type": "code",
        "colab": {}
      },
      "source": [
        "#run/compile the model\n",
        "model.compile(optimizer='adam',loss='mean_squared_error')"
      ],
      "execution_count": 0,
      "outputs": []
    },
    {
      "cell_type": "code",
      "metadata": {
        "id": "zQwH27pZcj9b",
        "colab_type": "code",
        "colab": {
          "base_uri": "https://localhost:8080/",
          "height": 69
        },
        "outputId": "495ac492-a683-43f7-9116-0c3c8dc7ada3"
      },
      "source": [
        "#train the model\n",
        "model.fit(x_train,y_train, batch_size=1, epochs=1)"
      ],
      "execution_count": 77,
      "outputs": [
        {
          "output_type": "stream",
          "text": [
            "Epoch 1/1\n",
            "1550/1550 [==============================] - 122s 79ms/step - loss: 6.2782e-04\n"
          ],
          "name": "stdout"
        },
        {
          "output_type": "execute_result",
          "data": {
            "text/plain": [
              "<keras.callbacks.History at 0x7f297d7939b0>"
            ]
          },
          "metadata": {
            "tags": []
          },
          "execution_count": 77
        }
      ]
    },
    {
      "cell_type": "code",
      "metadata": {
        "id": "niafTs-omIx7",
        "colab_type": "code",
        "colab": {}
      },
      "source": [
        "#create the test dataset\n",
        "#create a new array containing scaled values from 1550 to 2012\n",
        "test_data = scaled_data[training_data_len -60: , :]\n",
        "#creatextest and ytest\n",
        "x_test = []\n",
        "y_test = dataset[training_data_len: , :]\n",
        "for i in range (60, len(test_data)):\n",
        "  x_test.append(test_data[i-60:i, 0])"
      ],
      "execution_count": 0,
      "outputs": []
    },
    {
      "cell_type": "code",
      "metadata": {
        "id": "-yCux513tImf",
        "colab_type": "code",
        "colab": {}
      },
      "source": [
        "#convert data to numpy\n",
        "x_test = np.array(x_test)"
      ],
      "execution_count": 0,
      "outputs": []
    },
    {
      "cell_type": "code",
      "metadata": {
        "id": "HoIy9FkytQRc",
        "colab_type": "code",
        "colab": {}
      },
      "source": [
        "#Reshape data\n",
        "x_test = np.reshape(x_test, (x_test.shape[0],x_test.shape[1],1))"
      ],
      "execution_count": 0,
      "outputs": []
    },
    {
      "cell_type": "code",
      "metadata": {
        "id": "SHRnNwEDtqZL",
        "colab_type": "code",
        "colab": {}
      },
      "source": [
        "#get the models predicted price values\n",
        "predictions = model.predict(x_test)\n",
        "\n",
        "#unscaling the value from 0 to 1 to USD as original \n",
        "predictions = scaler.inverse_transform(predictions)"
      ],
      "execution_count": 0,
      "outputs": []
    },
    {
      "cell_type": "code",
      "metadata": {
        "id": "F65H_Jy5uFjD",
        "colab_type": "code",
        "colab": {
          "base_uri": "https://localhost:8080/",
          "height": 34
        },
        "outputId": "45dd3d63-2a18-4abb-fb7e-4bcdec229739"
      },
      "source": [
        "# Root mean squared error(RMSE)\n",
        "#model evaluation metric\n",
        "rmse = np.sqrt( np.mean(predictions - y_test)**2)\n",
        "rmse"
      ],
      "execution_count": 84,
      "outputs": [
        {
          "output_type": "execute_result",
          "data": {
            "text/plain": [
              "4.744036812094314"
            ]
          },
          "metadata": {
            "tags": []
          },
          "execution_count": 84
        }
      ]
    },
    {
      "cell_type": "code",
      "metadata": {
        "id": "wbKJBf_zucW6",
        "colab_type": "code",
        "colab": {
          "base_uri": "https://localhost:8080/",
          "height": 662
        },
        "outputId": "50c505b7-2fb0-4512-8462-243e226029d6"
      },
      "source": [
        "#plot the data \n",
        "train = data[:training_data_len]\n",
        "valid = data[training_data_len:]\n",
        "valid['Predictions']=predictions\n",
        "#visualise\n",
        "plt.figure(figsize=(16,8))\n",
        "plt.title('Model')\n",
        "plt.xlabel('Date', fontsize=18)\n",
        "plt.ylabel('Close Price USD ($)',fontsize=18)\n",
        "plt.plot(train['Close'])\n",
        "plt.plot(valid[['Close','Predictions']])\n",
        "plt.legend(['Train','Val','Predictions'], loc='lower right')\n",
        "plt.show()"
      ],
      "execution_count": 86,
      "outputs": [
        {
          "output_type": "stream",
          "text": [
            "/usr/local/lib/python3.6/dist-packages/ipykernel_launcher.py:3: SettingWithCopyWarning: \n",
            "A value is trying to be set on a copy of a slice from a DataFrame.\n",
            "Try using .loc[row_indexer,col_indexer] = value instead\n",
            "\n",
            "See the caveats in the documentation: http://pandas.pydata.org/pandas-docs/stable/user_guide/indexing.html#returning-a-view-versus-a-copy\n",
            "  This is separate from the ipykernel package so we can avoid doing imports until\n"
          ],
          "name": "stderr"
        },
        {
          "output_type": "display_data",
          "data": {
            "image/png": "[encoded data removed]",
            "text/plain": [
              "<Figure size 1152x576 with 1 Axes>"
            ]
          },
          "metadata": {
            "tags": []
          }
        }
      ]
    },
    {
      "cell_type": "code",
      "metadata": {
        "id": "jwQVtnrzwXlf",
        "colab_type": "code",
        "colab": {
          "base_uri": "https://localhost:8080/",
          "height": 438
        },
        "outputId": "4914136c-94b8-462c-e5e8-c777cfe5e6fe"
      },
      "source": [
        "#show the valid prices\n",
        "valid"
      ],
      "execution_count": 87,
      "outputs": [
        {
          "output_type": "execute_result",
          "data": {
            "text/html": [
              "<div>\n",
              "<style scoped>\n",
              "    .dataframe tbody tr th:only-of-type {\n",
              "        vertical-align: middle;\n",
              "    }\n",
              "\n",
              "    .dataframe tbody tr th {\n",
              "        vertical-align: top;\n",
              "    }\n",
              "\n",
              "    .dataframe thead th {\n",
              "        text-align: right;\n",
              "    }\n",
              "</style>\n",
              "<table border=\"1\" class=\"dataframe\">\n",
              "  <thead>\n",
              "    <tr style=\"text-align: right;\">\n",
              "      <th></th>\n",
              "      <th>Close</th>\n",
              "      <th>Predictions</th>\n",
              "    </tr>\n",
              "    <tr>\n",
              "      <th>Date</th>\n",
              "      <th></th>\n",
              "      <th></th>\n",
              "    </tr>\n",
              "  </thead>\n",
              "  <tbody>\n",
              "    <tr>\n",
              "      <th>2018-05-29</th>\n",
              "      <td>187.899994</td>\n",
              "      <td>185.361816</td>\n",
              "    </tr>\n",
              "    <tr>\n",
              "      <th>2018-05-30</th>\n",
              "      <td>187.500000</td>\n",
              "      <td>185.470032</td>\n",
              "    </tr>\n",
              "    <tr>\n",
              "      <th>2018-05-31</th>\n",
              "      <td>186.869995</td>\n",
              "      <td>185.475296</td>\n",
              "    </tr>\n",
              "    <tr>\n",
              "      <th>2018-06-01</th>\n",
              "      <td>190.240005</td>\n",
              "      <td>185.350769</td>\n",
              "    </tr>\n",
              "    <tr>\n",
              "      <th>2018-06-04</th>\n",
              "      <td>191.830002</td>\n",
              "      <td>185.630402</td>\n",
              "    </tr>\n",
              "    <tr>\n",
              "      <th>...</th>\n",
              "      <td>...</td>\n",
              "      <td>...</td>\n",
              "    </tr>\n",
              "    <tr>\n",
              "      <th>2019-12-24</th>\n",
              "      <td>284.269989</td>\n",
              "      <td>267.945221</td>\n",
              "    </tr>\n",
              "    <tr>\n",
              "      <th>2019-12-26</th>\n",
              "      <td>289.910004</td>\n",
              "      <td>269.000885</td>\n",
              "    </tr>\n",
              "    <tr>\n",
              "      <th>2019-12-27</th>\n",
              "      <td>289.799988</td>\n",
              "      <td>270.645691</td>\n",
              "    </tr>\n",
              "    <tr>\n",
              "      <th>2019-12-30</th>\n",
              "      <td>291.519989</td>\n",
              "      <td>272.250275</td>\n",
              "    </tr>\n",
              "    <tr>\n",
              "      <th>2019-12-31</th>\n",
              "      <td>293.649994</td>\n",
              "      <td>273.835236</td>\n",
              "    </tr>\n",
              "  </tbody>\n",
              "</table>\n",
              "<p>402 rows × 2 columns</p>\n",
              "</div>"
            ],
            "text/plain": [
              "                 Close  Predictions\n",
              "Date                               \n",
              "2018-05-29  187.899994   185.361816\n",
              "2018-05-30  187.500000   185.470032\n",
              "2018-05-31  186.869995   185.475296\n",
              "2018-06-01  190.240005   185.350769\n",
              "2018-06-04  191.830002   185.630402\n",
              "...                ...          ...\n",
              "2019-12-24  284.269989   267.945221\n",
              "2019-12-26  289.910004   269.000885\n",
              "2019-12-27  289.799988   270.645691\n",
              "2019-12-30  291.519989   272.250275\n",
              "2019-12-31  293.649994   273.835236\n",
              "\n",
              "[402 rows x 2 columns]"
            ]
          },
          "metadata": {
            "tags": []
          },
          "execution_count": 87
        }
      ]
    },
    {
      "cell_type": "code",
      "metadata": {
        "id": "BPsvqN4nxek1",
        "colab_type": "code",
        "colab": {}
      },
      "source": [
        ""
      ],
      "execution_count": 0,
      "outputs": []
    }
  ]
}